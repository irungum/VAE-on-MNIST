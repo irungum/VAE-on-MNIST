{
  "nbformat": 4,
  "nbformat_minor": 0,
  "metadata": {
    "colab": {
      "provenance": []
    },
    "kernelspec": {
      "name": "python3",
      "display_name": "Python 3"
    },
    "language_info": {
      "name": "python"
    }
  },
  "cells": [
    {
      "cell_type": "markdown",
      "source": [
        "# A Simple VAE Implementation on MNIST Dataset"
      ],
      "metadata": {
        "id": "8snUa2YKja4a"
      }
    },
    {
      "cell_type": "markdown",
      "source": [
        "This code is a simple implementation on the MNIST Dataset. It is adapted from a [tutorial by Kurtis Pykes](https://www.datacamp.com/tutorial/variational-autoencoders) on Datacamp"
      ],
      "metadata": {
        "id": "iQSH5Udljhox"
      }
    },
    {
      "cell_type": "code",
      "execution_count": null,
      "metadata": {
        "colab": {
          "base_uri": "https://localhost:8080/"
        },
        "id": "nc3ORLa_bWIH",
        "outputId": "af0b98d6-5dfe-4d61-c9e9-07d8b084ec37"
      },
      "outputs": [
        {
          "output_type": "stream",
          "name": "stdout",
          "text": [
            "Requirement already satisfied: torch in /usr/local/lib/python3.10/dist-packages (2.4.1+cu121)\n",
            "Requirement already satisfied: torchvision in /usr/local/lib/python3.10/dist-packages (0.19.1+cu121)\n",
            "Requirement already satisfied: matplotlib in /usr/local/lib/python3.10/dist-packages (3.7.1)\n",
            "Requirement already satisfied: numpy in /usr/local/lib/python3.10/dist-packages (1.26.4)\n",
            "Requirement already satisfied: filelock in /usr/local/lib/python3.10/dist-packages (from torch) (3.16.1)\n",
            "Requirement already satisfied: typing-extensions>=4.8.0 in /usr/local/lib/python3.10/dist-packages (from torch) (4.12.2)\n",
            "Requirement already satisfied: sympy in /usr/local/lib/python3.10/dist-packages (from torch) (1.13.3)\n",
            "Requirement already satisfied: networkx in /usr/local/lib/python3.10/dist-packages (from torch) (3.4.1)\n",
            "Requirement already satisfied: jinja2 in /usr/local/lib/python3.10/dist-packages (from torch) (3.1.4)\n",
            "Requirement already satisfied: fsspec in /usr/local/lib/python3.10/dist-packages (from torch) (2024.6.1)\n",
            "Requirement already satisfied: pillow!=8.3.*,>=5.3.0 in /usr/local/lib/python3.10/dist-packages (from torchvision) (10.4.0)\n",
            "Requirement already satisfied: contourpy>=1.0.1 in /usr/local/lib/python3.10/dist-packages (from matplotlib) (1.3.0)\n",
            "Requirement already satisfied: cycler>=0.10 in /usr/local/lib/python3.10/dist-packages (from matplotlib) (0.12.1)\n",
            "Requirement already satisfied: fonttools>=4.22.0 in /usr/local/lib/python3.10/dist-packages (from matplotlib) (4.54.1)\n",
            "Requirement already satisfied: kiwisolver>=1.0.1 in /usr/local/lib/python3.10/dist-packages (from matplotlib) (1.4.7)\n",
            "Requirement already satisfied: packaging>=20.0 in /usr/local/lib/python3.10/dist-packages (from matplotlib) (24.1)\n",
            "Requirement already satisfied: pyparsing>=2.3.1 in /usr/local/lib/python3.10/dist-packages (from matplotlib) (3.2.0)\n",
            "Requirement already satisfied: python-dateutil>=2.7 in /usr/local/lib/python3.10/dist-packages (from matplotlib) (2.8.2)\n",
            "Requirement already satisfied: six>=1.5 in /usr/local/lib/python3.10/dist-packages (from python-dateutil>=2.7->matplotlib) (1.16.0)\n",
            "Requirement already satisfied: MarkupSafe>=2.0 in /usr/local/lib/python3.10/dist-packages (from jinja2->torch) (3.0.1)\n",
            "Requirement already satisfied: mpmath<1.4,>=1.1.0 in /usr/local/lib/python3.10/dist-packages (from sympy->torch) (1.3.0)\n"
          ]
        }
      ],
      "source": [
        "! pip install torch torchvision matplotlib numpy"
      ]
    },
    {
      "cell_type": "code",
      "source": [
        "import torch\n",
        "import torch.nn as nn\n",
        "import torch.optim as optim\n",
        "from torchvision import datasets, transforms\n",
        "from torch.utils.data import DataLoader\n",
        "import matplotlib.pyplot as plt\n",
        "import numpy as np"
      ],
      "metadata": {
        "id": "4B0E6QlGbptC"
      },
      "execution_count": null,
      "outputs": []
    },
    {
      "cell_type": "markdown",
      "source": [
        "Define an Encoder class inheriting from nn.Module.\n",
        "\n",
        "__init__ method of Encoder initializes layers: fc1, fc_mu, fc_logvar.\n",
        "\n",
        "fc1 is a fully connected layer transforming input_dim to hidden_dim.\n",
        "\n",
        "fc_mu and fc_logvar are fully connected layers transforming hidden_dim to latent_dim.\n",
        "\n",
        "forward method of Encoder applies ReLU to fc1 output, then computes mu and logvar.\n",
        "\n",
        "Define a Decoder class inheriting from nn.Module.\n",
        "\n",
        "__init__ method of Decoder initializes layers: fc1, fc2.\n",
        "\n",
        "fc1 is a fully connected layer transforming latent_dim to hidden_dim.\n",
        "\n",
        "fc2 is a fully connected layer transforming hidden_dim to output_dim.\n",
        "\n",
        "forward method of Decoder applies ReLU to fc1 output, then sigmoid to fc2 output.\n",
        "\n",
        "Define a VAE class inheriting from nn.Module.\n",
        "\n",
        "__init__ method of VAE initializes Encoder and Decoder with given dimensions.\n",
        "\n",
        "forward method of VAE encodes input x to mu and logvar.\n",
        "\n",
        "Compute std by exponentiating 0.5 * logvar.\n",
        "\n",
        "Sample eps from a normal distribution with the same shape as std.\n",
        "\n",
        "Compute latent variable z as mu + eps * std.\n",
        "\n",
        "Decode z to reconstruct x_hat.\n",
        "\n",
        "Return x_hat, mu, and logvar."
      ],
      "metadata": {
        "id": "45YXa2xfc67D"
      }
    },
    {
      "cell_type": "code",
      "source": [
        "class Encoder(nn.Module):\n",
        "    def __init__(self, input_dim, hidden_dim, latent_dim):\n",
        "        super(Encoder, self).__init__()\n",
        "        self.fc1 = nn.Linear(input_dim, hidden_dim)\n",
        "        self.fc_mu = nn.Linear(hidden_dim, latent_dim)\n",
        "        self.fc_logvar = nn.Linear(hidden_dim, latent_dim)\n",
        "\n",
        "    def forward(self, x):\n",
        "        h = torch.relu(self.fc1(x))\n",
        "        mu = self.fc_mu(h)\n",
        "        logvar = self.fc_logvar(h)\n",
        "        return mu, logvar\n",
        "class Decoder(nn.Module):\n",
        "    def __init__(self, latent_dim, hidden_dim, output_dim):\n",
        "        super(Decoder, self).__init__()\n",
        "        self.fc1 = nn.Linear(latent_dim, hidden_dim)\n",
        "        self.fc2 = nn.Linear(hidden_dim, output_dim)\n",
        "\n",
        "    def forward(self, z):\n",
        "        h = torch.relu(self.fc1(z))\n",
        "        x_hat = torch.sigmoid(self.fc2(h))\n",
        "        return x_hat\n",
        "class VAE(nn.Module):\n",
        "    def __init__(self, input_dim, hidden_dim, latent_dim):\n",
        "        super(VAE, self).__init__()\n",
        "        self.encoder = Encoder(input_dim, hidden_dim, latent_dim)\n",
        "        self.decoder = Decoder(latent_dim, hidden_dim, input_dim)\n",
        "\n",
        "    def forward(self, x):\n",
        "        mu, logvar = self.encoder(x)\n",
        "        std = torch.exp(0.5 * logvar)\n",
        "        eps = torch.randn_like(std)\n",
        "        z = mu + eps * std\n",
        "        x_hat = self.decoder(z)\n",
        "        return x_hat, mu, logvar\n"
      ],
      "metadata": {
        "id": "TGmlIk6rbx8a"
      },
      "execution_count": null,
      "outputs": []
    },
    {
      "cell_type": "markdown",
      "source": [
        "\n",
        "Defines a function loss_function with parameters x, x_hat, mu, and logvar.\n",
        "\n",
        "Computes Binary Cross-Entropy (BCE) loss between x_hat (predicted) and x (actual).\n",
        "\n",
        "Uses nn.functional.binary_cross_entropy with reduction='sum' to sum the BCE loss.\n",
        "\n",
        "Computes Kullback-Leibler Divergence (KLD) loss.\n",
        "\n",
        "KLD is calculated using the formula -0.5 * torch.sum(1 + logvar - mu.pow(2) - logvar.exp()).\n",
        "\n",
        "Returns the sum of BCE and KLD losses."
      ],
      "metadata": {
        "id": "0tCu0scJdNYS"
      }
    },
    {
      "cell_type": "code",
      "source": [
        "def loss_function(x, x_hat, mu, logvar):\n",
        "    bce = nn.functional.binary_cross_entropy(x_hat, x, reduction='sum')\n",
        "    kld = -0.5 * torch.sum(1 + logvar - mu.pow(2) - logvar.exp())\n",
        "    return bce + kld"
      ],
      "metadata": {
        "id": "FuodLhPSdM1p"
      },
      "execution_count": null,
      "outputs": []
    },
    {
      "cell_type": "markdown",
      "source": [
        "### Train the VAE on MNIST Dataset"
      ],
      "metadata": {
        "id": "3h_un8RrdgmY"
      }
    },
    {
      "cell_type": "markdown",
      "source": [
        "Hyperparameters definition:\n",
        "\n",
        "\n",
        "\n",
        "input_dim = 784: Input dimension (28x28 images flattened).\n",
        "\n",
        "hidden_dim = 400: Dimension of the hidden layer.\n",
        "\n",
        "latent_dim = 20: Dimension of the latent space.\n",
        "\n",
        "lr = 1e-3: Learning rate for the optimizer.\n",
        "\n",
        "batch_size = 128: Number of samples per batch.\n",
        "\n",
        "epochs = 10: Number of training epochs.\n"
      ],
      "metadata": {
        "id": "ps4k_bBPi5Oi"
      }
    },
    {
      "cell_type": "code",
      "source": [
        "#Hyperparameters\n",
        "\n",
        "input_dim = 784\n",
        "hidden_dim = 400\n",
        "latent_dim = 20\n",
        "batch_size = 128\n",
        "num_epochs = 10\n",
        "learning_rate = 1e-3"
      ],
      "metadata": {
        "id": "z9lmPfOTdj-Z"
      },
      "execution_count": null,
      "outputs": []
    },
    {
      "cell_type": "markdown",
      "source": [
        "Data loader setup:\n",
        "\n",
        "\n",
        "\n",
        "transform = transforms.Compose([transforms.ToTensor(), transforms.Lambda(lambda x: x.view(-1))]):\n",
        "\n",
        "Convert images to tensors and flatten them.\n",
        "\n",
        "\n",
        "\n",
        "train_dataset = datasets.MNIST(root='./data', train=True, transform=transform, download=True):\n",
        "\n",
        "Load MNIST training dataset with transformations.\n",
        "\n",
        "\n",
        "\n",
        "train_loader = DataLoader(train_dataset, batch_size=batch_size, shuffle=True):\n",
        "\n",
        "Create data loader for batching and shuffling."
      ],
      "metadata": {
        "id": "8VTH-YT-i_Zr"
      }
    },
    {
      "cell_type": "code",
      "source": [
        "#Dataloader\n",
        "\n",
        "transform = transforms.Compose([transforms.ToTensor()])\n",
        "train_dataset = datasets.MNIST(root='./data', train=True, transform=transform, download=True)\n",
        "train_loader = DataLoader(train_dataset, batch_size=batch_size, shuffle=True)\n",
        "#"
      ],
      "metadata": {
        "id": "I6kZu3IzdwPS"
      },
      "execution_count": null,
      "outputs": []
    },
    {
      "cell_type": "markdown",
      "source": [
        "Model and optimizer initialization:\n",
        "\n",
        "\n",
        "\n",
        "vae = VAE(input_dim, hidden_dim, latent_dim):\n",
        "\n",
        "Instantiate the Variational Autoencoder (VAE) model.\n",
        "\n",
        "\n",
        "\n",
        "optimizer = optim.Adam(vae.parameters(), lr=lr):\n",
        "\n",
        "Initialize Adam optimizer with model parameters and learning rate.\n"
      ],
      "metadata": {
        "id": "tRzIWDsBjH-J"
      }
    },
    {
      "cell_type": "code",
      "source": [
        "#model, optimizer\n",
        "\n",
        "vae = VAE(input_dim, hidden_dim, latent_dim)\n",
        "optimizer = optim.Adam(vae.parameters(), lr=learning_rate)"
      ],
      "metadata": {
        "id": "Whp2rwdtd8KG"
      },
      "execution_count": null,
      "outputs": []
    },
    {
      "cell_type": "markdown",
      "source": [
        "Training loop:\n",
        "\n",
        "\n",
        "\n",
        "vae.train():\n",
        "\n",
        "Set the model to training mode.\n",
        "\n",
        "\n",
        "\n",
        "for epoch in range(epochs)::\n",
        "\n",
        "Loop over the number of epochs.\n",
        "\n",
        "\n",
        "\n",
        "train_loss = 0:\n",
        "\n",
        "Initialize training loss for the epoch.\n",
        "\n",
        "\n",
        "\n",
        "for x, _ in train_loader::\n",
        "\n",
        "Loop over batches of data.\n",
        "\n",
        "\n",
        "\n",
        "x = x.view(-1, input_dim):\n",
        "\n",
        "Flatten the batch of images.\n",
        "\n",
        "\n",
        "\n",
        "optimizer.zero_grad():\n",
        "\n",
        "Reset gradients before backpropagation.\n",
        "\n",
        "\n",
        "\n",
        "x_hat, mu, logvar = vae(x):\n",
        "\n",
        "Forward pass through the VAE model.\n",
        "\n",
        "\n",
        "\n",
        "loss = loss_function(x, x_hat, mu, logvar):\n",
        "\n",
        "Compute the loss.\n",
        "\n",
        "\n",
        "\n",
        "loss.backward():\n",
        "\n",
        "Backpropagate the loss.\n",
        "\n",
        "\n",
        "\n",
        "train_loss += loss.item():\n",
        "\n",
        "Accumulate the loss.\n",
        "\n",
        "\n",
        "\n",
        "optimizer.step():\n",
        "\n",
        "Update model parameters.\n",
        "\n",
        "\n",
        "\n",
        "print Epochs and Loss"
      ],
      "metadata": {
        "id": "EmEpJ7tAjL6q"
      }
    },
    {
      "cell_type": "code",
      "source": [
        "# Training Loop\n",
        "\n",
        "vae.train()\n",
        "for epoch in range(num_epochs):\n",
        "  train_loss = 0.0\n",
        "  for x, _ in train_loader:\n",
        "    optimizer.zero_grad()\n",
        "    x = x.view(-1, input_dim)\n",
        "    optimizer.zero_grad()\n",
        "    x_hat, mu, logvar = vae(x)\n",
        "    loss = loss_function(x, x_hat, mu, logvar)\n",
        "    loss.backward()\n",
        "    train_loss += loss.item()\n",
        "    optimizer.step()\n",
        "  print(f'Epoch {epoch+1}, Loss:{train_loss/len(train_loader.dataset)}')"
      ],
      "metadata": {
        "colab": {
          "base_uri": "https://localhost:8080/"
        },
        "id": "CUEQzs4ZeJJX",
        "outputId": "be9b62f3-e9ca-483f-d1b2-fa5c56370a01"
      },
      "execution_count": null,
      "outputs": [
        {
          "output_type": "stream",
          "name": "stdout",
          "text": [
            "Epoch 1, Loss:163.09465118815103\n",
            "Epoch 2, Loss:121.34693543294271\n",
            "Epoch 3, Loss:114.49010673828126\n",
            "Epoch 4, Loss:111.46735546875\n",
            "Epoch 5, Loss:109.76036625976562\n",
            "Epoch 6, Loss:108.60687788085937\n",
            "Epoch 7, Loss:107.73319420572916\n",
            "Epoch 8, Loss:107.13137626953124\n",
            "Epoch 9, Loss:106.59792125651042\n",
            "Epoch 10, Loss:106.18735545247395\n"
          ]
        }
      ]
    },
    {
      "cell_type": "markdown",
      "source": [
        "### Testing and Evaluating The Model"
      ],
      "metadata": {
        "id": "MlCU4lAlgXqt"
      }
    },
    {
      "cell_type": "markdown",
      "source": [
        "\n",
        "vae.eval(): Set the VAE model to evaluation mode.\n",
        "\n",
        "with torch.no_grad(): Disable gradient calculation for efficiency.\n",
        "\n",
        "x, _ = next(iter(train_loader)): Get a batch of data from the train_loader.\n",
        "\n",
        "x = x.view(-1, input_dim): Flatten the input data to match the input dimensions of the VAE.\n",
        "\n",
        "x_hat, _, _ = vae(x): Pass the input through the VAE to get the reconstructed output.\n",
        "\n",
        "x = x.view(-1, 28, 28): Reshape the original input back to 28x28 images.\n",
        "\n",
        "x_hat = x_hat.view(-1, 28, 28): Reshape the reconstructed output back to 28x28 images.\n",
        "\n",
        "fig, axs = plt.subplots(2, 10, figsize=(15, 3)): Create a figure with 2 rows and 10 columns of subplots.\n",
        "\n",
        "for i in range(10):: Loop through the first 10 images.\n",
        "\n",
        "axs[0, i].imshow(x[i].cpu().numpy(), cmap='gray'): Display the original image in the first row.\n",
        "\n",
        "axs[1, i].imshow(x_hat[i].cpu().numpy(), cmap='gray'): Display the reconstructed image in the second row.\n",
        "\n",
        "axs[0, i].axis('off'): Turn off axis for the original image.\n",
        "\n",
        "axs[1, i].axis('off'): Turn off axis for the reconstructed image.\n",
        "\n",
        "plt.show(): Display the figure with the original and reconstructed images.\n",
        "\n",
        "with torch.no_grad(): Disable gradient calculation for efficiency.\n",
        "\n",
        "z = torch.randn(10, latent_dim): Sample 10 random vectors from the latent space.\n",
        "\n",
        "sample = vae.decoder(z): Generate samples from the decoder using the random latent vectors.\n",
        "\n",
        "sample = sample.view(-1, 28, 28): Reshape the generated samples to 28x28 images.\n",
        "\n",
        "fig, axs = plt.subplots(1, 10, figsize=(15, 3)): Create a figure with 1 row and 10 columns of subplots.\n",
        "\n",
        "for i in range(10):: Loop through the 10 generated samples.\n",
        "\n",
        "axs[i].imshow(sample[i].cpu().numpy(), cmap='gray'): Display each generated"
      ],
      "metadata": {
        "id": "cyHYGWrYinnf"
      }
    },
    {
      "cell_type": "code",
      "source": [
        "#visualizing reconstructed outputs\n",
        "\n",
        "vae.eval()\n",
        "with torch.no_grad():\n",
        "    x, _ = next(iter(train_loader))\n",
        "    x = x.view(-1, input_dim)\n",
        "    x_hat, _, _ = vae(x)\n",
        "    x = x.view(-1, 28, 28)\n",
        "    x_hat = x_hat.view(-1, 28, 28)\n",
        "\n",
        "\n",
        "    fig, axs = plt.subplots(2, 10, figsize=(15, 3))\n",
        "    for i in range(10):\n",
        "        axs[0, i].imshow(x[i].cpu().numpy().squeeze(), cmap='gray')\n",
        "        axs[1, i].imshow(x_hat[i].cpu().numpy(), cmap='gray')\n",
        "        axs[0, i].axis('off')\n",
        "        axs[1, i].axis('off')\n",
        "    plt.show()\n",
        "\n",
        "# visualizing generated samples\n",
        "\n",
        "with torch.no_grad():\n",
        "    z = torch.randn(10, latent_dim)\n",
        "    sample = vae.decoder(z)\n",
        "    sample = sample.view(-1, 28, 28)\n",
        "\n",
        "    fig, axs = plt.subplots(1, 10, figsize=(15, 3))\n",
        "    for i in range(10):\n",
        "        axs[i].imshow(sample[i].cpu().numpy().squeeze(), cmap='gray')\n",
        "        axs[i].axis('off')\n",
        "    plt.show()"
      ],
      "metadata": {
        "colab": {
          "base_uri": "https://localhost:8080/",
          "height": 209
        },
        "id": "DjEkeog8gWfM",
        "outputId": "30977d09-69f2-4920-e628-6fa1e368fd8c"
      },
      "execution_count": null,
      "outputs": [
        {
          "output_type": "display_data",
          "data": {
            "text/plain": [
              "<Figure size 1500x300 with 20 Axes>"
            ],
            "image/png": "[encoded data removed]"
          },
          "metadata": {}
        },
        {
          "output_type": "display_data",
          "data": {
            "text/plain": [
              "<Figure size 1500x300 with 10 Axes>"
            ],
            "image/png": "[encoded data removed]"
          },
          "metadata": {}
        }
      ]
    },
    {
      "cell_type": "markdown",
      "source": [
        "Visualization of outputs. The top row is the original MNIST data, the middle row is the reconstructed outputs, and the last row is the generated samples"
      ],
      "metadata": {
        "id": "6HtYlukViu8b"
      }
    },
    {
      "cell_type": "code",
      "source": [],
      "metadata": {
        "id": "LgmfGyojhQwo"
      },
      "execution_count": null,
      "outputs": []
    }
  ]
}